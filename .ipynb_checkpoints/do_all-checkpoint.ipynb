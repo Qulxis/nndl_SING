{
 "cells": [
  {
   "cell_type": "markdown",
   "id": "1e3c3507",
   "metadata": {},
   "source": [
    "# Lets first get our data"
   ]
  },
  {
   "cell_type": "code",
   "execution_count": 15,
   "id": "45604ca5",
   "metadata": {},
   "outputs": [
    {
     "name": "stdout",
     "output_type": "stream",
     "text": [
      "Requirement already satisfied: librosa==0.6 in /home/ecbm4040/envTF24/lib/python3.6/site-packages (0.6.0)\n",
      "Requirement already satisfied: resampy>=0.2.0 in /home/ecbm4040/envTF24/lib/python3.6/site-packages (from librosa==0.6) (0.4.2)\n",
      "Requirement already satisfied: numpy>=1.8.0 in /home/ecbm4040/envTF24/lib/python3.6/site-packages (from librosa==0.6) (1.19.5)\n",
      "Requirement already satisfied: audioread>=2.0.0 in /home/ecbm4040/envTF24/lib/python3.6/site-packages (from librosa==0.6) (3.0.0)\n",
      "Requirement already satisfied: decorator>=3.0.0 in /home/ecbm4040/envTF24/lib/python3.6/site-packages (from librosa==0.6) (5.0.9)\n",
      "Requirement already satisfied: six>=1.3 in /home/ecbm4040/envTF24/lib/python3.6/site-packages (from librosa==0.6) (1.15.0)\n",
      "Requirement already satisfied: scikit-learn!=0.19.0,>=0.14.0 in /home/ecbm4040/envTF24/lib/python3.6/site-packages (from librosa==0.6) (0.24.2)\n",
      "Requirement already satisfied: joblib>=0.7.0 in /home/ecbm4040/envTF24/lib/python3.6/site-packages (from librosa==0.6) (1.1.1)\n",
      "Requirement already satisfied: scipy>=0.14.0 in /home/ecbm4040/envTF24/lib/python3.6/site-packages (from librosa==0.6) (1.5.4)\n",
      "Collecting numba>=0.53\n",
      "  Using cached numba-0.53.1-cp36-cp36m-manylinux2014_x86_64.whl (3.4 MB)\n",
      "Requirement already satisfied: setuptools in /home/ecbm4040/envTF24/lib/python3.6/site-packages (from numba>=0.53->resampy>=0.2.0->librosa==0.6) (58.0.2)\n",
      "Collecting llvmlite<0.37,>=0.36.0rc1\n",
      "  Using cached llvmlite-0.36.0-cp36-cp36m-manylinux2010_x86_64.whl (25.3 MB)\n",
      "Requirement already satisfied: threadpoolctl>=2.0.0 in /home/ecbm4040/envTF24/lib/python3.6/site-packages (from scikit-learn!=0.19.0,>=0.14.0->librosa==0.6) (3.1.0)\n",
      "Installing collected packages: llvmlite, numba\n",
      "  Attempting uninstall: llvmlite\n",
      "    Found existing installation: llvmlite 0.31.0\n",
      "    Uninstalling llvmlite-0.31.0:\n",
      "      Successfully uninstalled llvmlite-0.31.0\n",
      "  Attempting uninstall: numba\n",
      "    Found existing installation: numba 0.48.0\n",
      "    Uninstalling numba-0.48.0:\n",
      "      Successfully uninstalled numba-0.48.0\n",
      "Successfully installed llvmlite-0.36.0 numba-0.53.1\n",
      "\u001b[33mWARNING: You are using pip version 21.2.4; however, version 21.3.1 is available.\n",
      "You should consider upgrading via the '/home/ecbm4040/envTF24/bin/python3 -m pip install --upgrade pip' command.\u001b[0m\n",
      "Collecting numba==0.48\n",
      "  Using cached numba-0.48.0-1-cp36-cp36m-manylinux2014_x86_64.whl (3.5 MB)\n",
      "Requirement already satisfied: setuptools in /home/ecbm4040/envTF24/lib/python3.6/site-packages (from numba==0.48) (58.0.2)\n",
      "Collecting llvmlite<0.32.0,>=0.31.0dev0\n",
      "  Using cached llvmlite-0.31.0-cp36-cp36m-manylinux1_x86_64.whl (20.2 MB)\n",
      "Requirement already satisfied: numpy>=1.15 in /home/ecbm4040/envTF24/lib/python3.6/site-packages (from numba==0.48) (1.19.5)\n",
      "Installing collected packages: llvmlite, numba\n",
      "  Attempting uninstall: llvmlite\n",
      "    Found existing installation: llvmlite 0.36.0\n",
      "    Uninstalling llvmlite-0.36.0:\n",
      "      Successfully uninstalled llvmlite-0.36.0\n",
      "  Attempting uninstall: numba\n",
      "    Found existing installation: numba 0.53.1\n",
      "    Uninstalling numba-0.53.1:\n",
      "      Successfully uninstalled numba-0.53.1\n",
      "\u001b[31mERROR: pip's dependency resolver does not currently take into account all the packages that are installed. This behaviour is the source of the following dependency conflicts.\n",
      "resampy 0.4.2 requires numba>=0.53, but you have numba 0.48.0 which is incompatible.\u001b[0m\n",
      "Successfully installed llvmlite-0.31.0 numba-0.48.0\n",
      "\u001b[33mWARNING: You are using pip version 21.2.4; however, version 21.3.1 is available.\n",
      "You should consider upgrading via the '/home/ecbm4040/envTF24/bin/python3 -m pip install --upgrade pip' command.\u001b[0m\n",
      "Requirement already satisfied: tensorflow==1.8 in /home/ecbm4040/envTF24/lib/python3.6/site-packages (1.8.0)\n",
      "Requirement already satisfied: six>=1.10.0 in /home/ecbm4040/envTF24/lib/python3.6/site-packages (from tensorflow==1.8) (1.15.0)\n",
      "Requirement already satisfied: termcolor>=1.1.0 in /home/ecbm4040/envTF24/lib/python3.6/site-packages (from tensorflow==1.8) (1.1.0)\n",
      "Requirement already satisfied: absl-py>=0.1.6 in /home/ecbm4040/envTF24/lib/python3.6/site-packages (from tensorflow==1.8) (0.13.0)\n",
      "Requirement already satisfied: tensorboard<1.9.0,>=1.8.0 in /home/ecbm4040/envTF24/lib/python3.6/site-packages (from tensorflow==1.8) (1.8.0)\n",
      "Requirement already satisfied: astor>=0.6.0 in /home/ecbm4040/envTF24/lib/python3.6/site-packages (from tensorflow==1.8) (0.8.1)\n",
      "Requirement already satisfied: wheel>=0.26 in /home/ecbm4040/envTF24/lib/python3.6/site-packages (from tensorflow==1.8) (0.37.0)\n",
      "Requirement already satisfied: numpy>=1.13.3 in /home/ecbm4040/envTF24/lib/python3.6/site-packages (from tensorflow==1.8) (1.19.5)\n",
      "Requirement already satisfied: gast>=0.2.0 in /home/ecbm4040/envTF24/lib/python3.6/site-packages (from tensorflow==1.8) (0.3.3)\n",
      "Requirement already satisfied: grpcio>=1.8.6 in /home/ecbm4040/envTF24/lib/python3.6/site-packages (from tensorflow==1.8) (1.32.0)\n",
      "Requirement already satisfied: protobuf>=3.4.0 in /home/ecbm4040/envTF24/lib/python3.6/site-packages (from tensorflow==1.8) (3.17.3)\n",
      "Requirement already satisfied: html5lib==0.9999999 in /home/ecbm4040/envTF24/lib/python3.6/site-packages (from tensorboard<1.9.0,>=1.8.0->tensorflow==1.8) (0.9999999)\n",
      "Requirement already satisfied: werkzeug>=0.11.10 in /home/ecbm4040/envTF24/lib/python3.6/site-packages (from tensorboard<1.9.0,>=1.8.0->tensorflow==1.8) (2.0.1)\n",
      "Requirement already satisfied: bleach==1.5.0 in /home/ecbm4040/envTF24/lib/python3.6/site-packages (from tensorboard<1.9.0,>=1.8.0->tensorflow==1.8) (1.5.0)\n",
      "Requirement already satisfied: markdown>=2.6.8 in /home/ecbm4040/envTF24/lib/python3.6/site-packages (from tensorboard<1.9.0,>=1.8.0->tensorflow==1.8) (3.3.4)\n",
      "Requirement already satisfied: importlib-metadata in /home/ecbm4040/envTF24/lib/python3.6/site-packages (from markdown>=2.6.8->tensorboard<1.9.0,>=1.8.0->tensorflow==1.8) (4.8.1)\n",
      "Requirement already satisfied: dataclasses in /home/ecbm4040/envTF24/lib/python3.6/site-packages (from werkzeug>=0.11.10->tensorboard<1.9.0,>=1.8.0->tensorflow==1.8) (0.8)\n",
      "Requirement already satisfied: typing-extensions>=3.6.4 in /home/ecbm4040/envTF24/lib/python3.6/site-packages (from importlib-metadata->markdown>=2.6.8->tensorboard<1.9.0,>=1.8.0->tensorflow==1.8) (3.7.4.3)\n",
      "Requirement already satisfied: zipp>=0.5 in /home/ecbm4040/envTF24/lib/python3.6/site-packages (from importlib-metadata->markdown>=2.6.8->tensorboard<1.9.0,>=1.8.0->tensorflow==1.8) (3.5.0)\n",
      "\u001b[33mWARNING: You are using pip version 21.2.4; however, version 21.3.1 is available.\n",
      "You should consider upgrading via the '/home/ecbm4040/envTF24/bin/python3 -m pip install --upgrade pip' command.\u001b[0m\n",
      "Collecting resampy==0.3.1\n",
      "  Downloading resampy-0.3.1-py3-none-any.whl (3.1 MB)\n",
      "\u001b[K     |████████████████████████████████| 3.1 MB 7.3 MB/s eta 0:00:01\n",
      "\u001b[?25hRequirement already satisfied: numba>=0.47 in /home/ecbm4040/envTF24/lib/python3.6/site-packages (from resampy==0.3.1) (0.48.0)\n",
      "Requirement already satisfied: numpy>=1.17 in /home/ecbm4040/envTF24/lib/python3.6/site-packages (from resampy==0.3.1) (1.19.5)\n",
      "Requirement already satisfied: llvmlite<0.32.0,>=0.31.0dev0 in /home/ecbm4040/envTF24/lib/python3.6/site-packages (from numba>=0.47->resampy==0.3.1) (0.31.0)\n",
      "Requirement already satisfied: setuptools in /home/ecbm4040/envTF24/lib/python3.6/site-packages (from numba>=0.47->resampy==0.3.1) (58.0.2)\n",
      "Installing collected packages: resampy\n",
      "  Attempting uninstall: resampy\n",
      "    Found existing installation: resampy 0.4.2\n",
      "    Uninstalling resampy-0.4.2:\n",
      "      Successfully uninstalled resampy-0.4.2\n",
      "Successfully installed resampy-0.3.1\n",
      "\u001b[33mWARNING: You are using pip version 21.2.4; however, version 21.3.1 is available.\n",
      "You should consider upgrading via the '/home/ecbm4040/envTF24/bin/python3 -m pip install --upgrade pip' command.\u001b[0m\n"
     ]
    },
    {
     "data": {
      "text/plain": [
       "'\\nreplace \"import tensorflow as tf\" with\\nimport tensorflow.compat.v1 as tf\\ntf.disable_v2_behavior()\\n'"
      ]
     },
     "execution_count": 15,
     "metadata": {},
     "output_type": "execute_result"
    }
   ],
   "source": [
    "!pip install librosa==0.6\n",
    "!pip install numba==0.48\n",
    "!pip install tensorflow==1.8\n",
    "!pip install resampy==0.3.1\n",
    "#or run requirements.txt\n",
    "\n",
    "# IN bash: sudo apt-get install libsndfile1\n",
    "\"\"\"\n",
    "sudo apt update\n",
    "sudo apt install ffmpeg\n",
    "\"\"\""
   ]
  },
  {
   "cell_type": "code",
   "execution_count": 3,
   "id": "a7d1a126",
   "metadata": {},
   "outputs": [],
   "source": [
    "from urllib.request import urlopen\n",
    "from io import BytesIO\n",
    "from zipfile import ZipFile\n",
    "\n",
    "\n",
    "def download_and_unzip(url, extract_to='.'):\n",
    "    http_response = urlopen(url)\n",
    "    zipfile = ZipFile(BytesIO(http_response.read()))\n",
    "    zipfile.extractall(path=extract_to)\n",
    "    \n",
    "\n",
    "download_and_unzip(url = 'http://mirlab.org/dataset/public/MIR-1K.zip',extract_to = './download')"
   ]
  },
  {
   "cell_type": "code",
   "execution_count": 5,
   "id": "50406f29",
   "metadata": {},
   "outputs": [],
   "source": [
    "# Get train test split\n",
    "!python download.py"
   ]
  },
  {
   "cell_type": "markdown",
   "id": "b8c150f3",
   "metadata": {},
   "source": [
    "# Train if Needed"
   ]
  },
  {
   "cell_type": "code",
   "execution_count": null,
   "id": "0ddf02ef",
   "metadata": {},
   "outputs": [],
   "source": [
    "!python train.py"
   ]
  },
  {
   "cell_type": "markdown",
   "id": "20fb3e32",
   "metadata": {},
   "source": [
    "# Evaluate\n"
   ]
  },
  {
   "cell_type": "code",
   "execution_count": null,
   "id": "e04847aa",
   "metadata": {},
   "outputs": [],
   "source": [
    "!python evaluate.py"
   ]
  },
  {
   "cell_type": "markdown",
   "id": "8bd663e2",
   "metadata": {},
   "source": [
    "# Use to generate splits"
   ]
  },
  {
   "cell_type": "code",
   "execution_count": 18,
   "id": "b92241f3",
   "metadata": {},
   "outputs": [
    {
     "name": "stdout",
     "output_type": "stream",
     "text": [
      "/home/ecbm4040/envTF24/lib/python3.6/site-packages/tensorflow/python/framework/dtypes.py:519: FutureWarning: Passing (type, 1) or '1type' as a synonym of type is deprecated; in a future version of numpy, it will be understood as (type, (1,)) / '(1,)type'.\n",
      "  _np_qint8 = np.dtype([(\"qint8\", np.int8, 1)])\n",
      "/home/ecbm4040/envTF24/lib/python3.6/site-packages/tensorflow/python/framework/dtypes.py:520: FutureWarning: Passing (type, 1) or '1type' as a synonym of type is deprecated; in a future version of numpy, it will be understood as (type, (1,)) / '(1,)type'.\n",
      "  _np_quint8 = np.dtype([(\"quint8\", np.uint8, 1)])\n",
      "/home/ecbm4040/envTF24/lib/python3.6/site-packages/tensorflow/python/framework/dtypes.py:521: FutureWarning: Passing (type, 1) or '1type' as a synonym of type is deprecated; in a future version of numpy, it will be understood as (type, (1,)) / '(1,)type'.\n",
      "  _np_qint16 = np.dtype([(\"qint16\", np.int16, 1)])\n",
      "/home/ecbm4040/envTF24/lib/python3.6/site-packages/tensorflow/python/framework/dtypes.py:522: FutureWarning: Passing (type, 1) or '1type' as a synonym of type is deprecated; in a future version of numpy, it will be understood as (type, (1,)) / '(1,)type'.\n",
      "  _np_quint16 = np.dtype([(\"quint16\", np.uint16, 1)])\n",
      "/home/ecbm4040/envTF24/lib/python3.6/site-packages/tensorflow/python/framework/dtypes.py:523: FutureWarning: Passing (type, 1) or '1type' as a synonym of type is deprecated; in a future version of numpy, it will be understood as (type, (1,)) / '(1,)type'.\n",
      "  _np_qint32 = np.dtype([(\"qint32\", np.int32, 1)])\n",
      "/home/ecbm4040/envTF24/lib/python3.6/site-packages/tensorflow/python/framework/dtypes.py:528: FutureWarning: Passing (type, 1) or '1type' as a synonym of type is deprecated; in a future version of numpy, it will be understood as (type, (1,)) / '(1,)type'.\n",
      "  np_resource = np.dtype([(\"resource\", np.ubyte, 1)])\n",
      "2022-12-17 21:19:24.137711: I tensorflow/core/platform/cpu_feature_guard.cc:140] Your CPU supports instructions that this TensorFlow binary was not compiled to use: AVX2 FMA\n",
      "Processing backstreet_boys-i_want_it_that_way.mp3 ...\n"
     ]
    }
   ],
   "source": [
    "!python main.py"
   ]
  },
  {
   "cell_type": "code",
   "execution_count": 17,
   "id": "142d9316",
   "metadata": {},
   "outputs": [
    {
     "name": "stderr",
     "output_type": "stream",
     "text": [
      "/home/ecbm4040/envTF24/lib/python3.6/site-packages/tensorflow/python/framework/dtypes.py:519: FutureWarning: Passing (type, 1) or '1type' as a synonym of type is deprecated; in a future version of numpy, it will be understood as (type, (1,)) / '(1,)type'.\n",
      "  _np_qint8 = np.dtype([(\"qint8\", np.int8, 1)])\n",
      "/home/ecbm4040/envTF24/lib/python3.6/site-packages/tensorflow/python/framework/dtypes.py:520: FutureWarning: Passing (type, 1) or '1type' as a synonym of type is deprecated; in a future version of numpy, it will be understood as (type, (1,)) / '(1,)type'.\n",
      "  _np_quint8 = np.dtype([(\"quint8\", np.uint8, 1)])\n",
      "/home/ecbm4040/envTF24/lib/python3.6/site-packages/tensorflow/python/framework/dtypes.py:521: FutureWarning: Passing (type, 1) or '1type' as a synonym of type is deprecated; in a future version of numpy, it will be understood as (type, (1,)) / '(1,)type'.\n",
      "  _np_qint16 = np.dtype([(\"qint16\", np.int16, 1)])\n",
      "/home/ecbm4040/envTF24/lib/python3.6/site-packages/tensorflow/python/framework/dtypes.py:522: FutureWarning: Passing (type, 1) or '1type' as a synonym of type is deprecated; in a future version of numpy, it will be understood as (type, (1,)) / '(1,)type'.\n",
      "  _np_quint16 = np.dtype([(\"quint16\", np.uint16, 1)])\n",
      "/home/ecbm4040/envTF24/lib/python3.6/site-packages/tensorflow/python/framework/dtypes.py:523: FutureWarning: Passing (type, 1) or '1type' as a synonym of type is deprecated; in a future version of numpy, it will be understood as (type, (1,)) / '(1,)type'.\n",
      "  _np_qint32 = np.dtype([(\"qint32\", np.int32, 1)])\n",
      "/home/ecbm4040/envTF24/lib/python3.6/site-packages/tensorflow/python/framework/dtypes.py:528: FutureWarning: Passing (type, 1) or '1type' as a synonym of type is deprecated; in a future version of numpy, it will be understood as (type, (1,)) / '(1,)type'.\n",
      "  np_resource = np.dtype([(\"resource\", np.ubyte, 1)])\n"
     ]
    },
    {
     "name": "stdout",
     "output_type": "stream",
     "text": [
      "1.8.0\n"
     ]
    }
   ],
   "source": [
    "import tensorflow as tf\n",
    "print(tf.__version__)"
   ]
  },
  {
   "cell_type": "code",
   "execution_count": 22,
   "id": "0fc94e41",
   "metadata": {},
   "outputs": [
    {
     "name": "stdout",
     "output_type": "stream",
     "text": [
      "Collecting pipreqs\n",
      "  Downloading pipreqs-0.4.11-py2.py3-none-any.whl (32 kB)\n",
      "Collecting yarg\n",
      "  Downloading yarg-0.1.9-py2.py3-none-any.whl (19 kB)\n",
      "Collecting docopt\n",
      "  Downloading docopt-0.6.2.tar.gz (25 kB)\n",
      "Requirement already satisfied: requests in /home/ecbm4040/envTF24/lib/python3.6/site-packages (from yarg->pipreqs) (2.26.0)\n",
      "Requirement already satisfied: charset-normalizer~=2.0.0 in /home/ecbm4040/envTF24/lib/python3.6/site-packages (from requests->yarg->pipreqs) (2.0.4)\n",
      "Requirement already satisfied: idna<4,>=2.5 in /home/ecbm4040/envTF24/lib/python3.6/site-packages (from requests->yarg->pipreqs) (3.2)\n",
      "Requirement already satisfied: urllib3<1.27,>=1.21.1 in /home/ecbm4040/envTF24/lib/python3.6/site-packages (from requests->yarg->pipreqs) (1.26.6)\n",
      "Requirement already satisfied: certifi>=2017.4.17 in /home/ecbm4040/envTF24/lib/python3.6/site-packages (from requests->yarg->pipreqs) (2021.5.30)\n",
      "Building wheels for collected packages: docopt\n",
      "  Building wheel for docopt (setup.py) ... \u001b[?25ldone\n",
      "\u001b[?25h  Created wheel for docopt: filename=docopt-0.6.2-py2.py3-none-any.whl size=13724 sha256=a22be73901d7000bb01b5281550942436e4f972dc2c6032ae638313c0346b277\n",
      "  Stored in directory: /home/ecbm4040/.cache/pip/wheels/3f/2a/fa/4d7a888e69774d5e6e855d190a8a51b357d77cc05eb1c097c9\n",
      "Successfully built docopt\n",
      "Installing collected packages: yarg, docopt, pipreqs\n",
      "Successfully installed docopt-0.6.2 pipreqs-0.4.11 yarg-0.1.9\n",
      "\u001b[33mWARNING: You are using pip version 21.2.4; however, version 21.3.1 is available.\n",
      "You should consider upgrading via the '/home/ecbm4040/envTF24/bin/python3 -m pip install --upgrade pip' command.\u001b[0m\n"
     ]
    }
   ],
   "source": [
    "!pip install pipreqs"
   ]
  },
  {
   "cell_type": "code",
   "execution_count": null,
   "id": "8969939a",
   "metadata": {},
   "outputs": [],
   "source": []
  }
 ],
 "metadata": {
  "kernelspec": {
   "display_name": "Python 3",
   "language": "python",
   "name": "python3"
  },
  "language_info": {
   "codemirror_mode": {
    "name": "ipython",
    "version": 3
   },
   "file_extension": ".py",
   "mimetype": "text/x-python",
   "name": "python",
   "nbconvert_exporter": "python",
   "pygments_lexer": "ipython3",
   "version": "3.6.9"
  }
 },
 "nbformat": 4,
 "nbformat_minor": 5
}
